{
  "nbformat": 4,
  "nbformat_minor": 0,
  "metadata": {
    "colab": {
      "name": "project4_20181485_20181573.ipynb",
      "provenance": [],
      "collapsed_sections": [],
      "include_colab_link": true
    },
    "kernelspec": {
      "name": "python3",
      "display_name": "Python 3"
    },
    "language_info": {
      "name": "python"
    }
  },
  "cells": [
    {
      "cell_type": "markdown",
      "metadata": {
        "id": "view-in-github",
        "colab_type": "text"
      },
      "source": [
        "<a href=\"https://colab.research.google.com/github/C0ntinue/EEE4178/blob/main/project4_20181485_20181573.ipynb\" target=\"_parent\"><img src=\"https://colab.research.google.com/assets/colab-badge.svg\" alt=\"Open In Colab\"/></a>"
      ]
    },
    {
      "cell_type": "markdown",
      "metadata": {
        "id": "ugu_9yS8SPN6"
      },
      "source": [
        "# Google Webpage Ranking Algorithm"
      ]
    },
    {
      "cell_type": "code",
      "metadata": {
        "id": "A0mTUFmfSAVc"
      },
      "source": [
        "# import dependency\n",
        "import os\n",
        "import numpy as np\n",
        "import networkx as nx\n",
        "import matplotlib as plt\n",
        "from scipy.sparse import csr_matrix, csc_matrix"
      ],
      "execution_count": null,
      "outputs": []
    },
    {
      "cell_type": "code",
      "metadata": {
        "id": "VG4wMzIEsZcu"
      },
      "source": [
        "def pageRank(A, s = .85, epsilon = .001):\n",
        "  \"\"\"\n",
        "  Computes the pagerank for each of the n states.\n",
        "  Used in webpage ranking and text summarization using unweighted\n",
        "  or weighted transitions respectively.\n",
        "  Args\n",
        "  ----------\n",
        "  A:adjacency matrix, Aij should be a boolean\n",
        "    representing the transition weight from state i to j.\n",
        "\n",
        "  Kwargs\n",
        "  ----------\n",
        "  s: probability for calculate google matrix, Defaults to 0.85\n",
        "  epsilon: if the sum of pageranks between iterations is bellow this we will\n",
        "          have converged. Defaults to 0.001\n",
        "  \"\"\"\n",
        "  n = A.shape[0]\n",
        "  A_hat = A\n",
        "  # transform A into no dangling rows H\n",
        "  for row,rsum in enumerate(np.sum(A,axis=1)):\n",
        "    if rsum == 0:\n",
        "      A_hat[row]=np.ones(n)\n",
        "\n",
        "  print('A_hat:')\n",
        "  print(A,end='\\n\\n')\n",
        "\n",
        "    # transform A_hat into markorv matrix H_hat\n",
        "  H_hat = csr_matrix(A_hat,dtype=np.float)\n",
        "  rsums = np.array(H_hat.sum(1))[:,0]\n",
        "  ri, ci = H_hat.nonzero()\n",
        "  H_hat.data /= rsums[ri]\n",
        "  print('H_hat:')\n",
        "  print(np.round(np.asarray(H_hat.todense()),4),end='\\n\\n')\n",
        "  # bool array of sink states\n",
        "  sink = rsums==0\n",
        "\n",
        "  # Compute pagerank r until we converge\n",
        "  ro, r = np.zeros(n), np.ones(n)\n",
        "  cnt = 0\n",
        "  while np.sum(np.abs(r-ro)) > epsilon:\n",
        "    cnt = cnt+1\n",
        "    ro = r.copy()\n",
        "    GoT = [] # Google matrix Transpose\n",
        "    Go = [] #Google matrix\n",
        "    # calculate each pagerank at a time\n",
        "    for i in range(0,n):\n",
        "      # inlinks of state i\n",
        "      Ii = np.array(H_hat[:,i].todense())[:,0]\n",
        "      # account for sink states\n",
        "      Si = sink / float(n)\n",
        "      # account for teleportation to state i\n",
        "      Ti = np.ones(n) / float(n)\n",
        "      GoT.append(Ii*s + Si*s + Ti*(1-s))\n",
        "      r[i] = ro.dot(Ii*s + Si*s + Ti*(1-s))\n",
        "      #print(Ii*s + Si*s + Ti*(1-s))\n",
        "    print('iteration:'+str(cnt),end='\\t importance scores of each nodes:')\n",
        "    print(np.round(r/sum(r),4),end='\\n')\n",
        "  print('converges after '+str(cnt)+' iteration')\n",
        "  Go = np.transpose(GoT)  \n",
        "  print('\\ngoogle matrix G:')\n",
        "  print(np.round(Go,4))\n",
        " \n",
        "  nodes = zip(range(1,n+1),list(r/sum(r)))\n",
        "  nodes = sorted(nodes, key=lambda x: x[1], reverse=True)\n",
        "  print('\\nPage Ranks:')\n",
        "  for node in nodes: print(f'vertex {node[0]}: {node[1]}')\n",
        "  \n",
        "  \n",
        "  # return normalized pagerank\n",
        "  return nodes, Go"
      ],
      "execution_count": null,
      "outputs": []
    },
    {
      "cell_type": "markdown",
      "metadata": {
        "id": "PYZbIiIbg2yC"
      },
      "source": [
        "# Graph #1"
      ]
    },
    {
      "cell_type": "code",
      "metadata": {
        "id": "ozJ3YKkFsnpU"
      },
      "source": [
        "A1 = np.array((\n",
        "    [0, 0, 0, 1],\n",
        "    [1, 0, 1, 1],\n",
        "    [1, 1, 0, 1],\n",
        "    [0, 0, 0, 0]))"
      ],
      "execution_count": null,
      "outputs": []
    },
    {
      "cell_type": "code",
      "metadata": {
        "id": "ro5rPTDySbHq"
      },
      "source": [
        "G1 = nx.from_numpy_array(A1, parallel_edges=True,create_using=nx.DiGraph())"
      ],
      "execution_count": null,
      "outputs": []
    },
    {
      "cell_type": "code",
      "metadata": {
        "colab": {
          "base_uri": "https://localhost:8080/",
          "height": 318
        },
        "id": "xAyeg8LIr4hg",
        "outputId": "78d4f572-1cb5-44fd-b898-86e849111abc"
      },
      "source": [
        "mapping={0:1,1:2,2:3,3:4}\n",
        "A1_=nx.relabel_nodes(G1,mapping)\n",
        "nx.draw_shell(A1_, with_labels=True, node_color=range(A1.shape[0]), node_size=2500, alpha=0.6,cmap = plt.cm.gist_rainbow, font_size = 20, font_weight='bold')"
      ],
      "execution_count": null,
      "outputs": [
        {
          "output_type": "display_data",
          "data": {
            "image/png": "[encoded data removed]",
            "text/plain": [
              "<Figure size 432x288 with 1 Axes>"
            ]
          },
          "metadata": {
            "tags": []
          }
        }
      ]
    },
    {
      "cell_type": "code",
      "metadata": {
        "id": "XDM0CWTuSd_o",
        "colab": {
          "base_uri": "https://localhost:8080/"
        },
        "outputId": "502c5953-386c-4ebf-ee8e-0d07c3b4b934"
      },
      "source": [
        "nodes1,_ = pageRank(A1, 0.85)"
      ],
      "execution_count": null,
      "outputs": [
        {
          "output_type": "stream",
          "text": [
            "A_hat:\n",
            "[[0 0 0 1]\n",
            " [1 0 1 1]\n",
            " [1 1 0 1]\n",
            " [1 1 1 1]]\n",
            "\n",
            "H_hat:\n",
            "[[0.     0.     0.     1.    ]\n",
            " [0.3333 0.     0.3333 0.3333]\n",
            " [0.3333 0.3333 0.     0.3333]\n",
            " [0.25   0.25   0.25   0.25  ]]\n",
            "\n",
            "iteration:1\t importance scores of each nodes:[0.2323 0.1615 0.1615 0.4448]\n",
            "iteration:2\t importance scores of each nodes:[0.2235 0.1778 0.1778 0.421 ]\n",
            "iteration:3\t importance scores of each nodes:[0.2277 0.1773 0.1773 0.4177]\n",
            "iteration:4\t importance scores of each nodes:[0.2267 0.1765 0.1765 0.4203]\n",
            "iteration:5\t importance scores of each nodes:[0.2268 0.1768 0.1768 0.4195]\n",
            "iteration:6\t importance scores of each nodes:[0.2268 0.1768 0.1768 0.4196]\n",
            "iteration:7\t importance scores of each nodes:[0.2268 0.1768 0.1768 0.4197]\n",
            "converges after 7 iteration\n",
            "\n",
            "google matrix G:\n",
            "[[0.0375 0.0375 0.0375 0.8875]\n",
            " [0.3208 0.0375 0.3208 0.3208]\n",
            " [0.3208 0.3208 0.0375 0.3208]\n",
            " [0.25   0.25   0.25   0.25  ]]\n",
            "\n",
            "Page Ranks:\n",
            "vertex 4: 0.41965609489128836\n",
            "vertex 1: 0.2268343734303336\n",
            "vertex 2: 0.17675476583918903\n",
            "vertex 3: 0.17675476583918903\n"
          ],
          "name": "stdout"
        }
      ]
    },
    {
      "cell_type": "markdown",
      "metadata": {
        "id": "lGHJZGy1g6iX"
      },
      "source": [
        "# Graph #2"
      ]
    },
    {
      "cell_type": "code",
      "metadata": {
        "id": "COgSACAFaBM5"
      },
      "source": [
        "A2 = np.array((\n",
        "    [1, 1, 0, 0],\n",
        "    [1, 1, 0, 0],\n",
        "    [0, 0, 1, 1],\n",
        "    [0, 0, 1, 1]))"
      ],
      "execution_count": null,
      "outputs": []
    },
    {
      "cell_type": "code",
      "metadata": {
        "id": "JhOCoyeVaBM8"
      },
      "source": [
        "G2 = nx.from_numpy_array(A2, parallel_edges=True,create_using=nx.DiGraph())"
      ],
      "execution_count": null,
      "outputs": []
    },
    {
      "cell_type": "code",
      "metadata": {
        "colab": {
          "base_uri": "https://localhost:8080/",
          "height": 318
        },
        "id": "cdbJ5LwJaBM8",
        "outputId": "86532e93-44a6-43f0-ab55-c9647081c645"
      },
      "source": [
        "mapping={0:1,1:2,2:3,3:4}\n",
        "A2_=nx.relabel_nodes(G2,mapping)\n",
        "nx.draw_shell(A2_, with_labels=True, node_color=range(A2.shape[0]), node_size=2500, alpha=0.6,cmap = plt.cm.gist_rainbow, font_size = 20, font_weight='bold')"
      ],
      "execution_count": null,
      "outputs": [
        {
          "output_type": "display_data",
          "data": {
            "image/png": "[encoded data removed]",
            "text/plain": [
              "<Figure size 432x288 with 1 Axes>"
            ]
          },
          "metadata": {
            "tags": []
          }
        }
      ]
    },
    {
      "cell_type": "code",
      "metadata": {
        "colab": {
          "base_uri": "https://localhost:8080/"
        },
        "id": "bMKU0u09aBM8",
        "outputId": "c9302122-fc14-453a-d773-0fa8e9e4a782"
      },
      "source": [
        "nodes2,_ = pageRank(A2, 0.85)"
      ],
      "execution_count": null,
      "outputs": [
        {
          "output_type": "stream",
          "text": [
            "A_hat:\n",
            "[[1 1 0 0]\n",
            " [1 1 0 0]\n",
            " [0 0 1 1]\n",
            " [0 0 1 1]]\n",
            "\n",
            "H_hat:\n",
            "[[0.5 0.5 0.  0. ]\n",
            " [0.5 0.5 0.  0. ]\n",
            " [0.  0.  0.5 0.5]\n",
            " [0.  0.  0.5 0.5]]\n",
            "\n",
            "iteration:1\t importance scores of each nodes:[0.25 0.25 0.25 0.25]\n",
            "converges after 1 iteration\n",
            "\n",
            "google matrix G:\n",
            "[[0.4625 0.4625 0.0375 0.0375]\n",
            " [0.4625 0.4625 0.0375 0.0375]\n",
            " [0.0375 0.0375 0.4625 0.4625]\n",
            " [0.0375 0.0375 0.4625 0.4625]]\n",
            "\n",
            "Page Ranks:\n",
            "vertex 1: 0.25\n",
            "vertex 2: 0.25\n",
            "vertex 3: 0.25\n",
            "vertex 4: 0.25\n"
          ],
          "name": "stdout"
        }
      ]
    },
    {
      "cell_type": "markdown",
      "metadata": {
        "id": "Wd-sMsuZg9Bx"
      },
      "source": [
        "# Graph #3"
      ]
    },
    {
      "cell_type": "code",
      "metadata": {
        "id": "4OjsyyC9rXX6"
      },
      "source": [
        "A3 = np.array((\n",
        "[0,1,1,0,0,0,0,0],\n",
        "[1,0,0,0,1,0,0,0],\n",
        "[0,1,0,0,0,0,0,1],\n",
        "[0,0,1,0,0,0,0,0],\n",
        "[0,0,0,1,0,0,0,1],\n",
        "[0,0,0,1,1,0,0,0],\n",
        "[0,0,0,1,0,1,0,0],\n",
        "[1,0,0,1,0,0,1,0]))"
      ],
      "execution_count": null,
      "outputs": []
    },
    {
      "cell_type": "code",
      "metadata": {
        "colab": {
          "base_uri": "https://localhost:8080/",
          "height": 318
        },
        "id": "PmTZ-HDrXdml",
        "outputId": "5557b78d-3af4-4c1a-fa2c-213399797fcc"
      },
      "source": [
        "G3 = nx.from_numpy_array(A3, parallel_edges=True,create_using=nx.DiGraph())\n",
        "mapping={0:1,1:2,2:3,3:4,4:5,5:6,6:7,7:8}\n",
        "A3_=nx.relabel_nodes(G3,mapping)\n",
        "nx.draw_shell(A3_, with_labels=True, node_color=range(A3.shape[0]), node_size=2500, alpha=0.6,cmap = plt.cm.gist_rainbow, font_size = 20, font_weight='bold')"
      ],
      "execution_count": null,
      "outputs": [
        {
          "output_type": "display_data",
          "data": {
            "image/png": "[encoded data removed]",
            "text/plain": [
              "<Figure size 432x288 with 1 Axes>"
            ]
          },
          "metadata": {
            "tags": []
          }
        }
      ]
    },
    {
      "cell_type": "code",
      "metadata": {
        "colab": {
          "base_uri": "https://localhost:8080/"
        },
        "id": "BUkZ_eK6aOkk",
        "outputId": "9f637699-9bc6-4361-cf22-dd55e7d2db7a"
      },
      "source": [
        "nodes3,_ = pageRank(A3, 0.85)"
      ],
      "execution_count": null,
      "outputs": [
        {
          "output_type": "stream",
          "text": [
            "A_hat:\n",
            "[[0 1 1 0 0 0 0 0]\n",
            " [1 0 0 0 1 0 0 0]\n",
            " [0 1 0 0 0 0 0 1]\n",
            " [0 0 1 0 0 0 0 0]\n",
            " [0 0 0 1 0 0 0 1]\n",
            " [0 0 0 1 1 0 0 0]\n",
            " [0 0 0 1 0 1 0 0]\n",
            " [1 0 0 1 0 0 1 0]]\n",
            "\n",
            "H_hat:\n",
            "[[0.     0.5    0.5    0.     0.     0.     0.     0.    ]\n",
            " [0.5    0.     0.     0.     0.5    0.     0.     0.    ]\n",
            " [0.     0.5    0.     0.     0.     0.     0.     0.5   ]\n",
            " [0.     0.     1.     0.     0.     0.     0.     0.    ]\n",
            " [0.     0.     0.     0.5    0.     0.     0.     0.5   ]\n",
            " [0.     0.     0.     0.5    0.5    0.     0.     0.    ]\n",
            " [0.     0.     0.     0.5    0.     0.5    0.     0.    ]\n",
            " [0.3333 0.     0.     0.3333 0.     0.     0.3333 0.    ]]\n",
            "\n",
            "iteration:1\t importance scores of each nodes:[0.1073 0.125  0.1781 0.2135 0.125  0.0719 0.0542 0.125 ]\n",
            "iteration:2\t importance scores of each nodes:[0.1073 0.1401 0.2459 0.1609 0.1024 0.0418 0.0542 0.1476]\n",
            "iteration:3\t importance scores of each nodes:[0.1201 0.1688 0.2011 0.1449 0.096  0.0418 0.0606 0.1668]\n",
            "iteration:4\t importance scores of each nodes:[0.1378 0.1552 0.1929 0.1503 0.1083 0.0445 0.066  0.145 ]\n",
            "iteration:5\t importance scores of each nodes:[0.1258 0.1593 0.2051 0.1528 0.1036 0.0468 0.0598 0.1468]\n",
            "iteration:6\t importance scores of each nodes:[0.128  0.1594 0.2021 0.1497 0.1063 0.0442 0.0603 0.1499]\n",
            "iteration:7\t importance scores of each nodes:[0.129  0.1591 0.2004 0.1508 0.1053 0.0444 0.0612 0.1498]\n",
            "iteration:8\t importance scores of each nodes:[0.1288 0.1587 0.2018 0.1508 0.1052 0.0448 0.0612 0.1487]\n",
            "iteration:9\t importance scores of each nodes:[0.1283 0.1592 0.2017 0.1506 0.1052 0.0448 0.0609 0.1492]\n",
            "iteration:10\t importance scores of each nodes:[0.1287 0.159  0.2013 0.1507 0.1055 0.0446 0.061  0.1492]\n",
            "iteration:11\t importance scores of each nodes:[0.1286 0.159  0.2015 0.1507 0.1053 0.0447 0.061  0.1491]\n",
            "iteration:12\t importance scores of each nodes:[0.1286 0.159  0.2015 0.1507 0.1053 0.0447 0.061  0.1491]\n",
            "iteration:13\t importance scores of each nodes:[0.1286 0.1591 0.2015 0.1507 0.1053 0.0447 0.061  0.1492]\n",
            "iteration:14\t importance scores of each nodes:[0.1286 0.159  0.2015 0.1507 0.1053 0.0447 0.061  0.1491]\n",
            "converges after 14 iteration\n",
            "\n",
            "google matrix G:\n",
            "[[0.0188 0.4438 0.4438 0.0188 0.0188 0.0188 0.0188 0.0188]\n",
            " [0.4438 0.0188 0.0188 0.0188 0.4438 0.0188 0.0188 0.0188]\n",
            " [0.0188 0.4438 0.0188 0.0188 0.0188 0.0188 0.0188 0.4438]\n",
            " [0.0188 0.0188 0.8688 0.0188 0.0188 0.0188 0.0188 0.0188]\n",
            " [0.0188 0.0188 0.0188 0.4438 0.0188 0.0188 0.0188 0.4438]\n",
            " [0.0188 0.0188 0.0188 0.4438 0.4438 0.0188 0.0188 0.0188]\n",
            " [0.0188 0.0188 0.0188 0.4438 0.0188 0.4438 0.0188 0.0188]\n",
            " [0.3021 0.0188 0.0188 0.3021 0.0188 0.0188 0.3021 0.0188]]\n",
            "\n",
            "Page Ranks:\n",
            "vertex 3: 0.20148859871040653\n",
            "vertex 2: 0.15903304508163363\n",
            "vertex 4: 0.1506964186924609\n",
            "vertex 8: 0.1491453719219211\n",
            "vertex 1: 0.12861070183778187\n",
            "vertex 5: 0.10533461153584543\n",
            "vertex 7: 0.0610136395907227\n",
            "vertex 6: 0.0446776126292278\n"
          ],
          "name": "stdout"
        }
      ]
    }
  ]
}